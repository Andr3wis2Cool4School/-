{
 "cells": [
  {
   "cell_type": "markdown",
   "id": "0d0a6040",
   "metadata": {},
   "source": [
    "If $Ax = 0$ then $\\begin{bmatrix}\n",
    "                   \\text{row 1} \\\\\n",
    "                   \\text{.} \\\\\n",
    "                   \\text{.} \\\\\n",
    "                   \\text{row m}\\end{bmatrix} \\begin{bmatrix}\n",
    "                                                  x \\end{bmatrix} = \n",
    "                                                  \\begin{bmatrix} \n",
    "                                                          0 \\\\\n",
    "                                                          \\text{.}\\\\\n",
    "                                                          \\text{.}\\\\\n",
    "                                                          \\text{0}\\end{bmatrix}$\n",
    "> $x$ is orthogonal to every row of $A$.                                                  \n",
    "\n"
   ]
  },
  {
   "cell_type": "markdown",
   "id": "53361126",
   "metadata": {},
   "source": [
    "- Every $x$ in the nullspace of $A$ is orthogonal to the row space of $A$.\n",
    "\n",
    "\n",
    "- Every $y$ in the nullspace of $A^T$ is orthogonal to the column space of $A$.\n"
   ]
  },
  {
   "cell_type": "markdown",
   "id": "5194f6b5",
   "metadata": {},
   "source": [
    "---\n",
    "\n",
    "Square Matrix, m = n.\n",
    "\n",
    "![image](./1.png)\n",
    "\n",
    "只有矩阵在正方形的情况下 才会有对角线。\n",
    "\n",
    "\n",
    "--- \n",
    "![image](./2.png)"
   ]
  },
  {
   "cell_type": "markdown",
   "id": "20a45f39",
   "metadata": {},
   "source": [
    "**Diagonal Matrix**: All non-diagonal elements are \"0\".\n",
    "\n",
    "![image](./3.png)"
   ]
  },
  {
   "cell_type": "markdown",
   "id": "4526fdef",
   "metadata": {},
   "source": [
    "**Identity Matrix**: \n",
    "\n",
    "$$\\begin{bmatrix}\n",
    "1 & 0 & 0 \\\\\n",
    "0 & 1 & 0 \\\\\n",
    "0 & 0 & 1\n",
    "\\end{bmatrix}$$\n",
    "\n",
    "Denoted by $I$ (any size) or $I_n$.\n",
    "\n",
    "- 对角线以外都是0。\n",
    "- 对角线的地方通通都是1.\n",
    "                       "
   ]
  },
  {
   "cell_type": "markdown",
   "id": "ce666ace",
   "metadata": {},
   "source": [
    "**Zero Matrix**: all elements are 0.\n",
    "\n",
    "Denoted by $O$ (any size) or $O_{m \\times n}$."
   ]
  },
  {
   "cell_type": "markdown",
   "id": "ac6b319a",
   "metadata": {},
   "source": [
    "---\n",
    "\n",
    "# Transpose\n",
    "\n",
    "\n",
    "$$(sA)^T = sA^T$$\n",
    "\n",
    "$$(A + B)^T = A^T + B^T$$\n",
    "\n",
    "\n",
    "**Symmetric Matrix (对称矩阵)** A square matrix that is equal to its transpose.\n",
    "\n",
    "$$A = A^T$$"
   ]
  },
  {
   "cell_type": "markdown",
   "id": "9679ef88",
   "metadata": {},
   "source": [
    "# Linear Combination "
   ]
  },
  {
   "cell_type": "markdown",
   "id": "486bcef0",
   "metadata": {},
   "source": [
    "- Given a vector set $\\{ u_1, ..., u_k\\}$\n",
    "\n",
    "- The linear combination of the vectors in the set\n",
    "    - $v = c_1u_1 + c_2u_2 + ... + c_k u_k$\n",
    "    - $c1, c_2, ..., c_k$ are scalars (coefficients of linear combination)\n",
    "    \n",
    "**其实就是weighted sum**"
   ]
  },
  {
   "cell_type": "markdown",
   "id": "3224c29c",
   "metadata": {},
   "source": []
  }
 ],
 "metadata": {
  "kernelspec": {
   "display_name": "Python 3.9.7 64-bit ('base': conda)",
   "language": "python",
   "name": "python397jvsc74a57bd040d3a090f54c6569ab1632332b64b2c03c39dcf918b08424e98f38b5ae0af88f"
  },
  "language_info": {
   "codemirror_mode": {
    "name": "ipython",
    "version": 3
   },
   "file_extension": ".py",
   "mimetype": "text/x-python",
   "name": "python",
   "nbconvert_exporter": "python",
   "pygments_lexer": "ipython3",
   "version": "3.9.7"
  }
 },
 "nbformat": 4,
 "nbformat_minor": 5
}
