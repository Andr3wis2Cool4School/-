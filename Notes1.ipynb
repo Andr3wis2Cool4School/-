{
 "cells": [
  {
   "cell_type": "markdown",
   "id": "168bfb8c",
   "metadata": {},
   "source": [
    "# Notes one\n",
    "\n",
    "## The column Space of a Matrix"
   ]
  },
  {
   "cell_type": "markdown",
   "id": "06f00d21",
   "metadata": {},
   "source": [
    "**A Matrix**: just a square or a rectangle of numbers."
   ]
  },
  {
   "cell_type": "markdown",
   "id": "f87d2b38",
   "metadata": {},
   "source": [
    "\n",
    "$$A_0 = \\begin{bmatrix}\n",
    "  1 & 3 & 2 \\\\\n",
    "  4 & 12 & 2 \\\\\n",
    "  2 & 6 & 4 \n",
    "  \\end{bmatrix}$$ "
   ]
  },
  {
   "cell_type": "markdown",
   "id": "dbf7d624",
   "metadata": {},
   "source": [
    "\n",
    ">All the rows are in the same direction. row are times.\n",
    "\n",
    "\n",
    ">All the columns are in the same direction. columns are times."
   ]
  },
  {
   "cell_type": "markdown",
   "id": "0b3cc777",
   "metadata": {},
   "source": [
    "---\n",
    "\n",
    "$$A_1 = \\begin{bmatrix}\n",
    "        1 & 4 & 2 \\\\\n",
    "        4 & 1 & 3 \\\\\n",
    "        5 & 5 & 5\n",
    "        \\end{bmatrix}$$\n",
    "\n",
    "Add row 1 and row 2 will get row 3.\n",
    "\n",
    "> Here we see this is a matrix of rank two. \n",
    "\n",
    "\n",
    "A side note: **Rank (秩)**\n",
    "\n",
    "---\n",
    "\n"
   ]
  },
  {
   "cell_type": "markdown",
   "id": "5af02820",
   "metadata": {},
   "source": [
    "## Column space of $A$ / All combinations of columns\n",
    "\n",
    "**Matrix $\\times$ Vectors**\n",
    "\n",
    "$$Ax = \\begin{bmatrix}\n",
    "       1 & 4 & 5 \\\\\n",
    "       3 & 2 & 5 \\\\\n",
    "       2 & 1 & 3\n",
    "       \\end{bmatrix} \\begin{bmatrix}\n",
    "                      x_1 \\\\\n",
    "                      x_2 \\\\\n",
    "                      x_3 \n",
    "                      \\end{bmatrix} = \\begin{bmatrix} \n",
    "                                       1 \\\\\n",
    "                                       3 \\\\\n",
    "                                       2 \\end{bmatrix} x_1 + \\begin{bmatrix}\n",
    "                                                             4 \\\\\n",
    "                                                             2 \\\\\n",
    "                                                             1 \\end{bmatrix}x_2 + \n",
    "                                                             \\begin{bmatrix}\n",
    "                                                             5 \\\\\n",
    "                                                             5 \\\\\n",
    "                                                             3 \\end{bmatrix}x_3$$ \n",
    "\n",
    "$ = $This is the **Linear combination** of columns of $A$.\n",
    "\n",
    "\n",
    "**$Ax$ is the Lineaer combination of columns of $A$**."
   ]
  },
  {
   "cell_type": "markdown",
   "id": "4ee8e3a4",
   "metadata": {},
   "source": [
    "--- \n",
    "\n",
    "## Basis for the column space / Basis for the row space\n",
    "\n"
   ]
  },
  {
   "cell_type": "markdown",
   "id": "87cf19fe",
   "metadata": {},
   "source": [
    "Include column $1 = \\begin{bmatrix}\n",
    "                    1 \\\\\n",
    "                    3 \\\\\n",
    "                    2 \\end{bmatrix}$\n",
    "                    \n",
    "Include column $2 = \\begin{bmatrix}\n",
    "                    4 \\\\\n",
    "                    2 \\\\\n",
    "                    1 \\end{bmatrix}$\n",
    "                    \n",
    "`Column 1` and `Column 2` go in different directions.\n",
    "\n",
    "\n",
    "**We do not keep the third columns**, it is just the sum of the first two, it is on the **plane**.                      "
   ]
  },
  {
   "cell_type": "markdown",
   "id": "eaa542bd",
   "metadata": {},
   "source": [
    "$$\\text{Column} 3 = \\begin{bmatrix}\n",
    "                    5 \\\\\n",
    "                    5 \\\\\n",
    "                    3 \\end{bmatrix} = \\begin{bmatrix}\n",
    "                                        1 \\\\\n",
    "                                        3 \\\\\n",
    "                                        2 \\end{bmatrix} + \\begin{bmatrix}\n",
    "                                                           4 \\\\\n",
    "                                                           2 \\\\\n",
    "                                                           1\n",
    "                                                           \\end{bmatrix}$$\n",
    "                                                           \n",
    "                                                           \n",
    "The column three will be called **dependent** Vectors.                                                         "
   ]
  },
  {
   "cell_type": "markdown",
   "id": "bbd937ed",
   "metadata": {},
   "source": [
    "$$A = CR = \\begin{bmatrix}\n",
    "           1 & 4 \\\\\n",
    "           3 & 2 \\\\\n",
    "           2 & 1\n",
    "           \\end{bmatrix} \\begin{bmatrix}\n",
    "                          1 & 0 & 1 \\\\\n",
    "                          0 & 1 & 1 \\end{bmatrix} = \\begin{bmatrix}\n",
    "       1 & 4 & 5 \\\\\n",
    "       3 & 2 & 5 \\\\\n",
    "       2 & 1 & 3\n",
    "       \\end{bmatrix}$$"
   ]
  },
  {
   "cell_type": "markdown",
   "id": "f2f80544",
   "metadata": {},
   "source": [
    "- The **row rank** of a matrix is the maximum number of rows, thought of as vectors, which are linearly independent. \n",
    "\n",
    "\n",
    "- The **column rank** is the maximum number of columns which are linearly independent."
   ]
  },
  {
   "cell_type": "markdown",
   "id": "d4638cdd",
   "metadata": {},
   "source": [
    "Row rank = column rank = $r = 2$."
   ]
  },
  {
   "cell_type": "markdown",
   "id": "c09aefa5",
   "metadata": {},
   "source": [
    "The number of independent columns in $A$ is equal to the number of independent rows in $R$."
   ]
  },
  {
   "cell_type": "markdown",
   "id": "671a5805",
   "metadata": {},
   "source": [
    "$A = CR$ shows that column rank of $A =$ row rank of $A$\n",
    "\n",
    "\n",
    "1. The $r$ columns of $C$ are independent (by their construction)\n",
    "2. Every column of $A$ is a combination of those $r$ columns (because $A = CR$)\n",
    "3. The $r$ rows of $R$ are independent (they contain the $r$ by $r$ matrix $I$)\n",
    "\n",
    "4. Every row of $A$ is a combination of those $r$ rows (because $A = CR$)"
   ]
  }
 ],
 "metadata": {
  "kernelspec": {
   "display_name": "Python 3 (ipykernel)",
   "language": "python",
   "name": "python3"
  },
  "language_info": {
   "codemirror_mode": {
    "name": "ipython",
    "version": 3
   },
   "file_extension": ".py",
   "mimetype": "text/x-python",
   "name": "python",
   "nbconvert_exporter": "python",
   "pygments_lexer": "ipython3",
   "version": "3.9.7"
  }
 },
 "nbformat": 4,
 "nbformat_minor": 5
}
