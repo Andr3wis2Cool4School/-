{
 "cells": [
  {
   "cell_type": "markdown",
   "id": "418477c4",
   "metadata": {},
   "source": [
    "# Notes one\n",
    "\n",
    "## The column Space of a Matrix"
   ]
  },
  {
   "cell_type": "markdown",
   "id": "7a95f640",
   "metadata": {},
   "source": [
    "**A Matrix**: just a square or a rectangle of numbers."
   ]
  },
  {
   "cell_type": "markdown",
   "id": "64580610",
   "metadata": {},
   "source": [
    "\n",
    "$$A_0 = \\begin{bmatrix}\n",
    "  1 & 3 & 2 \\\\\n",
    "  4 & 12 & 2 \\\\\n",
    "  2 & 6 & 4 \n",
    "  \\end{bmatrix}$$ "
   ]
  },
  {
   "cell_type": "markdown",
   "id": "f77b0f42",
   "metadata": {},
   "source": [
    "\n",
    ">All the rows are in the same direction. row are times.\n",
    "\n",
    "\n",
    ">All the columns are in the same direction. columns are times."
   ]
  },
  {
   "cell_type": "markdown",
   "id": "72c1663f",
   "metadata": {},
   "source": [
    "---\n",
    "\n",
    "$$A_1 = \\begin{bmatrix}\n",
    "        1 & 4 & 2 \\\\\n",
    "        4 & 1 & 3 \\\\\n",
    "        5 & 5 & 5\n",
    "        \\end{bmatrix}$$\n",
    "\n",
    "Add row 1 and row 2 will get row 3.\n",
    "\n",
    "> Here we see this is a matrix of rank two. \n",
    "\n",
    "\n",
    "A side note: **Rank (秩)**\n",
    "\n",
    "---\n",
    "\n"
   ]
  },
  {
   "cell_type": "markdown",
   "id": "6122bd1e",
   "metadata": {},
   "source": [
    "## Column space of $A$ / All combinations of columns\n",
    "\n",
    "**Matrix $\\times$ Vectors**\n",
    "\n",
    "$$Ax = \\begin{bmatrix}\n",
    "       1 & 4 & 5 \\\\\n",
    "       3 & 2 & 5 \\\\\n",
    "       2 & 1 & 3\n",
    "       \\end{bmatrix} \\begin{bmatrix}\n",
    "                      x_1 \\\\\n",
    "                      x_2 \\\\\n",
    "                      x_3 \n",
    "                      \\end{bmatrix} = \\begin{bmatrix} \n",
    "                                       1 \\\\\n",
    "                                       3 \\\\\n",
    "                                       2 \\end{bmatrix} x_1 + \\begin{bmatrix}\n",
    "                                                             4 \\\\\n",
    "                                                             2 \\\\\n",
    "                                                             1 \\end{bmatrix}x_2 + \n",
    "                                                             \\begin{bmatrix}\n",
    "                                                             5 \\\\\n",
    "                                                             5 \\\\\n",
    "                                                             3 \\end{bmatrix}x_3$$ \n",
    "\n",
    "This is the **Linear combination** of columns of $A$."
   ]
  },
  {
   "cell_type": "code",
   "execution_count": null,
   "id": "4201e69b",
   "metadata": {},
   "outputs": [],
   "source": []
  }
 ],
 "metadata": {
  "kernelspec": {
   "display_name": "Python 3 (ipykernel)",
   "language": "python",
   "name": "python3"
  },
  "language_info": {
   "codemirror_mode": {
    "name": "ipython",
    "version": 3
   },
   "file_extension": ".py",
   "mimetype": "text/x-python",
   "name": "python",
   "nbconvert_exporter": "python",
   "pygments_lexer": "ipython3",
   "version": "3.9.7"
  }
 },
 "nbformat": 4,
 "nbformat_minor": 5
}
